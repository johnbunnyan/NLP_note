{
  "nbformat": 4,
  "nbformat_minor": 0,
  "metadata": {
    "orig_nbformat": 4,
    "language_info": {
      "name": "python",
      "version": "3.8.11",
      "mimetype": "text/x-python",
      "codemirror_mode": {
        "name": "ipython",
        "version": 3
      },
      "pygments_lexer": "ipython3",
      "nbconvert_exporter": "python",
      "file_extension": ".py"
    },
    "kernelspec": {
      "name": "python3",
      "display_name": "Python 3.8.11 64-bit ('nlp': conda)"
    },
    "interpreter": {
      "hash": "2898d66ca773b6b9bbb6fc18d1f17ecc6ef0c4fd5b6e7f58123aa941dde52f18"
    },
    "colab": {
      "provenance": [],
      "include_colab_link": true
    }
  },
  "cells": [
    {
      "cell_type": "markdown",
      "metadata": {
        "id": "view-in-github",
        "colab_type": "text"
      },
      "source": [
        "<a href=\"https://colab.research.google.com/github/johnbunnyan/NLP_note/blob/master/HW2_%EB%82%98%EB%A7%8C%EC%9D%98_%EB%8D%B0%EC%9D%B4%ED%84%B0%EC%85%8B_%EB%A7%8C%EB%93%A4%EA%B8%B0_sol.ipynb\" target=\"_parent\"><img src=\"https://colab.research.google.com/assets/colab-badge.svg\" alt=\"Open In Colab\"/></a>"
      ]
    },
    {
      "cell_type": "code",
      "metadata": {
        "colab": {
          "base_uri": "https://localhost:8080/"
        },
        "id": "mGsgM0_divvJ",
        "outputId": "41b83f1d-2cd3-413c-ac1b-5fe9d7f00695"
      },
      "source": [
        "import time\n",
        "import requests\n",
        "from bs4 import BeautifulSoup\n",
        "\n",
        "samples = []\n",
        "page_id = 1\n",
        "\n",
        "while len(samples) < 1000:\n",
        "    url = f'https://movie.naver.com/movie/point/af/list.naver?&page={page_id}'\n",
        "    res = requests.get(url)\n",
        "    soup = BeautifulSoup(\n",
        "        res.text,\n",
        "        'html.parser'\n",
        "    )\n",
        "    \n",
        "    for td in soup.find_all('td', attrs={\"class\": \"title\"}):\n",
        "        samples.append((td.a.string, td.br.next_element.rstrip(), int(td.div.em.string)))\n",
        "    time.sleep(.5)\n",
        "    page_id +=  1\n",
        "\n",
        "print(samples[:10])"
      ],
      "execution_count": null,
      "outputs": [
        {
          "output_type": "stream",
          "text": [
            "[('분노의 질주: 더 얼티메이트', '폴워커 너무 보고싶네요..', 10), ('벼랑 위의 포뇨', '지브리 영화중에 제일 별로.. 포뇨 너무 징그러움.. 감동이 있는것 같지도 않고.. 포스터만 보고도 재미없을걸 알았지만 미루고 미루다 봤더니 세상에.. 사골맛이 안나는 돈코츠라멘, 건더기가 없는 미소된장국 같은... 전작들에 나온 요소들을 모아모아 전시한... 뭐랄까 찌꺼기의 산물같은 영화였다 ㅠ 그리고 여자는 항구 남자는 배인 것 같은 뉘앙스와 5살짜리 소스케가 포뇨의 보호자인것..ㅋㅋ 일본스러운 여성관이다. 아무튼 영화를 다시 보면 다른게 보일 수도 있겠지만 또 보고 싶은 영화는 아님ㅎ 보면서 계속 쓰나미가 언제든지 날 수 있는 해변가에서 애를 키우는 이유에 대해 생각했다 ㅎㅎ... 뭐 휴전한 나라에서 사는 나도 다를게 없으려나? 영화에서 딱 하나 맘에 든건, 우리 모두는 거품에서 태어났다는 말 정도였다.. 지브리가 항상 이야기하는 자연에 대한 메세지인건 알겠는데... 영화는 재미가 우선이라는게 확실해졌다. +어릴때 보다가 재미없어서 껐는데 현명한 선택이었다', 4), ('콰이어트 플레이스 2', '1편 안 봐도 숨 죽이고 볼 수 있는 영화 좋은 스릴러 이었던 영화..!!!', 10), ('바람과 함께 사라지다', '', 10), ('인질', '얘들아. 만원 아껴. 랑종도 이 정도는 아니었어', 1), ('올드', '무엇보다도 집약적으로 인간 삶을 나타낸 점이 좋았습니다. 다소 극단적으로 보일 수 있지만 면모에 따라 각기 다른 죽음을 맞이하게 되는 인물들 모습에서 어떠한 인생을 그리고 있고 그릴 것인지, 과거와 미래에 얽혀 정작 지금의 시간에서 바라보아야할 것을 보지 못하고 있는건 아닌지, 인간의 일생에서 진정한 그것은 무엇인지 생각하게 하는 영화였습니다.', 8), ('다만 악에서 구하소서', '..역시 황정민..이정재의 변신도 대박....눈빛 너무 무서웠다 진짜.원래 좋아하는 배우였지만 박정민은 정말다시보게됐음.시간가는줄 모르고 최강몰입함..긴장됐음.괜히 연기파 배우들이 아님.최고최고', 10), ('정글 크루즈', '롯데월드 신밧드의 모험 느낌인거 같다', 7), ('국가부도의 날', '당시 차관이 저런식으로 상황을 몰고가지 않았을 뿐더러 테이블에 ㄱ ㅖ집은 없었다 그저 정권 나팔수의 선동과 감성팔이 감성팔이 그나마 이딴 쓰레기에 쓰이기엔 아까운 허준호의 연기에 위로의 박수를 보낸다', 1), ('더 수어사이드 스쿼드', '솔직히 마고 로비 아니면 볼게 없지 않았나…?', 6)]\n"
          ],
          "name": "stdout"
        }
      ]
    },
    {
      "cell_type": "code",
      "metadata": {
        "id": "4_8raLT-ivvM"
      },
      "source": [
        "import csv\n",
        "\n",
        "with open('samples.csv', 'w') as fd:\n",
        "    writer = csv.writer(fd)\n",
        "    writer.writerow(['movie', 'sentence', 'score'])\n",
        "    writer.writerows(samples) "
      ],
      "execution_count": null,
      "outputs": []
    },
    {
      "cell_type": "code",
      "metadata": {
        "colab": {
          "base_uri": "https://localhost:8080/"
        },
        "id": "j2R2I8oOivvN",
        "outputId": "224ed410-1b0e-44c7-ebe8-5e397230c484"
      },
      "source": [
        "class RawMovieReview:\n",
        "    def __init__(self, file_name: str=\"samples.csv\"):\n",
        "        with open(file_name, 'r') as fd:\n",
        "            fd.readline()\n",
        "            reader = csv.reader(fd)\n",
        "            self._samples = [\n",
        "                (movie, sentence, int(score))\n",
        "                for movie, sentence, score\n",
        "                in reader\n",
        "            ]\n",
        "\n",
        "    def __len__(self):\n",
        "        return len(self._samples)\n",
        "    \n",
        "    def __getitem__(self, index):\n",
        "        return self._samples[index]\n",
        "\n",
        "dataset = RawMovieReview()\n",
        "print(len(dataset))\n",
        "print(dataset[321])"
      ],
      "execution_count": null,
      "outputs": [
        {
          "output_type": "stream",
          "text": [
            "1000\n",
            "('빽 투 더 퓨쳐', '최고의 영화....!', 10)\n"
          ],
          "name": "stdout"
        }
      ]
    },
    {
      "cell_type": "code",
      "metadata": {
        "colab": {
          "base_uri": "https://localhost:8080/"
        },
        "id": "LivT3krZivvN",
        "outputId": "c1c803ee-8b46-4fab-f2b9-7b64f723e39b"
      },
      "source": [
        "class MovieReview(RawMovieReview):\n",
        "    def __init__(self, score_threadhold: int, file_name: str=\"samples.csv\"):\n",
        "        super().__init__(file_name)\n",
        "        self._score_threadhold = score_threadhold\n",
        "\n",
        "    def __getitem__(self, index):\n",
        "        _, sentence, score = super().__getitem__(index)\n",
        "        return sentence, score >= self._score_threadhold\n",
        "\n",
        "dataset = MovieReview(7)\n",
        "print(len(dataset))\n",
        "print(dataset[321])"
      ],
      "execution_count": null,
      "outputs": [
        {
          "output_type": "stream",
          "text": [
            "1000\n",
            "('최고의 영화....!', True)\n"
          ],
          "name": "stdout"
        }
      ]
    }
  ]
}