{
  "cells": [
    {
      "cell_type": "markdown",
      "metadata": {
        "id": "lh1cyX2mj_4V"
      },
      "source": [
        "# 과제 1. 나만의 python & 알고리즘 함수 만들기\n",
        "## 1. 파이썬 내장함수 만들기\n",
        "Python에는 사용자의 편의를 위해서 여러가지 함수를 내장하고 있다. 다음 사진이 python 내장함수의 목록을 보여준다.\n",
        "\n",
        "<p align=\"center\"><img src=\"https://wikidocs.net/images/page/14598/2-1.png\" width=\"600px\"></p>\n",
        "\n",
        "자세한 내용은 [링크](https://docs.python.org/ko/3/library/functions.html)에서 확인해 볼 수 있으며, 문서 안에서 몇 가지 예시를 제시하고 있다. 다음은 python 공식 문서에서 제시하는 `all` 함수의 예시를 `my_all` 함수로 재작성한 예시이다."
      ]
    },
    {
      "cell_type": "code",
      "execution_count": 5,
      "metadata": {
        "colab": {
          "base_uri": "https://localhost:8080/"
        },
        "id": "KtICkC5sj_4X",
        "outputId": "f1ec7a7f-2660-4fbc-eaa9-7b885968aa93"
      },
      "outputs": [
        {
          "name": "stdout",
          "output_type": "stream",
          "text": [
            "통과\n"
          ]
        }
      ],
      "source": [
        "def my_all(iterable):\n",
        "    for element in iterable:\n",
        "        if not element:\n",
        "            return False\n",
        "    return True\n",
        "\n",
        "test1 = [True, 7 == 4, 3 > 7, False]\n",
        "test2 = [3 < 5, 10 == 10, True, 'something']\n",
        "\n",
        "# Assert 문은 이하의 식의 참인지 검사합니다.\n",
        "assert all(test1) == my_all(test1) == False\n",
        "assert all(test2) == my_all(test2) == True\n",
        "\n",
        "print(\"통과\")"
      ]
    },
    {
      "cell_type": "markdown",
      "metadata": {
        "id": "Z6GUKRRQj_4Z"
      },
      "source": [
        "아래의 함수들은 자주 사용되는 내장 함수들의 목록이다. 위의 코드 예시와 같이 몇 가지 함수들을 내장 함수를 쓰지 않고 따라 만들어보자. \\\n",
        "(단, int 같은 형변환 내장 함수 및 iter, next 같은 이 파일에서 재구현 되지 않는 내장 함수는 사용 가능하며, 편의를 위해 엄격하게 만들지 않고 test를 통과할 정도만 작성하여도 무방하다.)"
      ]
    },
    {
      "cell_type": "markdown",
      "metadata": {
        "id": "UrC-IOlfj_4Z"
      },
      "source": [
        "### 1-1. abs"
      ]
    },
    {
      "cell_type": "code",
      "execution_count": 6,
      "metadata": {
        "colab": {
          "base_uri": "https://localhost:8080/"
        },
        "id": "RCpeIZx8j_4a",
        "outputId": "cdd41731-7687-458e-f534-e5d353b70eaf"
      },
      "outputs": [
        {
          "name": "stdout",
          "output_type": "stream",
          "text": [
            "통과\n"
          ]
        }
      ],
      "source": [
        "def my_abs(number):\n",
        "  if number < 0: return -(number)\n",
        "  else: return number\n",
        "\n",
        "test1 = 1.7\n",
        "test2 = -8\n",
        "assert abs(test1) == my_abs(test1)\n",
        "assert abs(test2) == my_abs(test2)\n",
        "print(\"통과\")"
      ]
    },
    {
      "cell_type": "markdown",
      "metadata": {
        "id": "sBqLryIxj_4a"
      },
      "source": [
        "### 1-2. round"
      ]
    },
    {
      "cell_type": "code",
      "execution_count": 7,
      "metadata": {
        "colab": {
          "base_uri": "https://localhost:8080/"
        },
        "id": "xaEfCMwmj_4a",
        "outputId": "585ea767-9514-472d-fba6-d8dddedb613e"
      },
      "outputs": [
        {
          "name": "stdout",
          "output_type": "stream",
          "text": [
            "통과\n"
          ]
        }
      ],
      "source": [
        "import math\n",
        "\n",
        "def my_round(number, ndgits=None):\n",
        "    roundNum=0\n",
        "    decimal, num = math.modf(number)\n",
        "    decimalToStr = str(decimal)\n",
        "\n",
        "\n",
        "    if ndgits == None:\n",
        "      if decimalToStr[0] != '-':\n",
        "        if int(decimalToStr[2]) >= 5:\n",
        "          roundNum = num+1\n",
        "        else: roundNum = num\n",
        "      else:\n",
        "        if int(decimalToStr[3]) >= 5:\n",
        "          roundNum = num -1\n",
        "        else: roundNum = num\n",
        "    \n",
        "  \n",
        "    else:\n",
        "      if int(decimalToStr[2+ndgits]) >= 5:\n",
        "        new = int(decimalToStr[1+ndgits])+1\n",
        "        newOrigin = decimalToStr[1:1+ndgits]\n",
        "        numToStr = str(num)\n",
        "        roundNumBefore = numToStr[0]+newOrigin + str(new)\n",
        "        roundNum = float(roundNumBefore)\n",
        "      else:\n",
        "        new = int(decimalToStr[2+ndgits])+1\n",
        "        newOrigin = decimalToStr[2:2+ndgits]\n",
        "        numToStr = str(num)\n",
        "        roundNumBefore = numToStr[0:2]+newOrigin + str(new)\n",
        "        roundNum = float(roundNumBefore)\n",
        "\n",
        "    \n",
        "\n",
        "    return roundNum\n",
        "       \n",
        "\n",
        "test = 1.74789\n",
        "assert round(test) == my_round(test)\n",
        "assert round(-test) == my_round(-test)\n",
        "assert round(test, 3) == my_round(test, 3)\n",
        "assert round(-test, 2) == my_round(-test, 2)\n",
        "print(\"통과\")"
      ]
    },
    {
      "cell_type": "markdown",
      "metadata": {
        "id": "PTJk84oPj_4b"
      },
      "source": [
        "### 1-3. any"
      ]
    },
    {
      "cell_type": "code",
      "execution_count": 8,
      "metadata": {
        "colab": {
          "base_uri": "https://localhost:8080/"
        },
        "id": "bnBMZp3qj_4b",
        "outputId": "93e1a8e3-d124-4f12-ebcb-672dfd6be66f"
      },
      "outputs": [
        {
          "name": "stdout",
          "output_type": "stream",
          "text": [
            "통과\n"
          ]
        }
      ],
      "source": [
        "def my_any(iterable):\n",
        "    for i in range(len(iterable)):\n",
        "      # print(bool(iterable[i]))\n",
        "      isBool = bool(iterable[i])\n",
        "      if isBool != False:\n",
        "        return True\n",
        "      else:\n",
        "        return False\n",
        "# True if at least one element of an iterable is true\n",
        "# False if all elements are false or if an iterable is empty\n",
        "\n",
        "\n",
        "test1 = [True, 7 == 4, 'Something', False]\n",
        "test2 = [3 > 5, 10 != 10, False, '', None]\n",
        "assert any(test1) == my_any(test1)\n",
        "assert any(test2) == my_any(test2)\n",
        "print(\"통과\")"
      ]
    },
    {
      "cell_type": "markdown",
      "metadata": {
        "id": "r1a2t34Sj_4b"
      },
      "source": [
        "### 1-4. enumerate"
      ]
    },
    {
      "cell_type": "code",
      "execution_count": 9,
      "metadata": {
        "colab": {
          "base_uri": "https://localhost:8080/"
        },
        "id": "Eb3wJhDJj_4c",
        "outputId": "78b58558-b17c-44e2-c72e-9462573aff53"
      },
      "outputs": [
        {
          "name": "stdout",
          "output_type": "stream",
          "text": [
            "통과\n"
          ]
        }
      ],
      "source": [
        "def my_enumerate(sequence, start=0):\n",
        "    result=[]\n",
        "  \n",
        "    if start == 0:\n",
        "      for i in range(len(sequence)):\n",
        "        result.append((i,sequence[i]))\n",
        "    else:\n",
        "      key=start\n",
        "      for i in range(len(sequence)):\n",
        "        result.append((key,sequence[i]))\n",
        "        key += 1\n",
        "   \n",
        "    return result\n",
        "      \n",
        "\n",
        "test1 = [60, 50, 20, 10]\n",
        "test2 = [True, None, 'test']\n",
        "\n",
        "# print(list(enumerate(test2, 12)))\n",
        "# print(list(my_enumerate(test2, 12)))\n",
        "assert list(enumerate(test1)) == list(my_enumerate(test1))\n",
        "assert list(enumerate(test2, 12)) == list(my_enumerate(test2, 12))\n",
        "print(\"통과\")"
      ]
    },
    {
      "cell_type": "markdown",
      "metadata": {
        "id": "6GhbhgNsj_4c"
      },
      "source": [
        "### 1-5. max & min"
      ]
    },
    {
      "cell_type": "code",
      "execution_count": 10,
      "metadata": {
        "colab": {
          "base_uri": "https://localhost:8080/"
        },
        "id": "CPb7b92Fj_4c",
        "outputId": "b0e192ab-5611-48d1-c213-bb2434d9eb8e"
      },
      "outputs": [
        {
          "name": "stdout",
          "output_type": "stream",
          "text": [
            "통과\n"
          ]
        }
      ],
      "source": [
        "def my_max(*args):\n",
        "    tuples = args[0]\n",
        "    # print(type(tuples))\n",
        "    if type(tuples) == list:\n",
        "       max =tuples[0]\n",
        "       for i in range(1,len(tuples)):\n",
        "          if tuples[i] > max:\n",
        "             max = tuples[i]\n",
        "    \n",
        "\n",
        "    else:\n",
        "      max =tuples\n",
        "      for i in args:\n",
        "          if i > max:\n",
        "             max = i\n",
        "\n",
        "\n",
        "    return max\n",
        "      \n",
        "    \n",
        "    \n",
        "\n",
        "\n",
        "def my_min(*args):\n",
        "    tuples = args[0]\n",
        "    if type(tuples) == list:\n",
        "       min =tuples[0]\n",
        "       for i in range(1,len(tuples)):\n",
        "          if tuples[i] < min:\n",
        "             min = tuples[i]\n",
        "    \n",
        "\n",
        "    else:\n",
        "      min =tuples\n",
        "      for i in args:\n",
        "          if i < min:\n",
        "             min = i\n",
        "\n",
        "\n",
        "    return min\n",
        "\n",
        "test = [7, 4, 2, 6, 8]\n",
        "\n",
        "# print(my_max(test))\n",
        "\n",
        "assert max(test) == my_max(test) and min(test) == my_min(test)\n",
        "assert max(7, 4, 2, 5) == my_max(7, 4, 2, 5) and min(7, 4, 2, 5) == my_min(7, 4, 2, 5)\n",
        "print(\"통과\")"
      ]
    },
    {
      "cell_type": "markdown",
      "metadata": {
        "id": "LYJx5t63j_4c"
      },
      "source": [
        "### 1-6. range\n",
        "실제론 함수가 아니지만 함수 같이 만들어보자."
      ]
    },
    {
      "cell_type": "code",
      "execution_count": 11,
      "metadata": {
        "colab": {
          "base_uri": "https://localhost:8080/"
        },
        "id": "z5liW1V-j_4d",
        "outputId": "e5cb1138-ea88-4d60-c113-a8e5a0f27177"
      },
      "outputs": [
        {
          "name": "stdout",
          "output_type": "stream",
          "text": [
            "통과\n"
          ]
        }
      ],
      "source": [
        "def my_range(*args):\n",
        "  \n",
        "    result=[]\n",
        "\n",
        "    bound = len(args)\n",
        "\n",
        "    if(bound == 1):\n",
        "      rng=args[0]\n",
        "      for i in range(rng):\n",
        "        result.append(i)\n",
        "      \n",
        "\n",
        "    if(bound == 2):\n",
        "       for i in range(args[0],args[1]):\n",
        "          result.append(i)\n",
        "\n",
        "    elif(bound == 3):\n",
        "      # 3 5 7 9\n",
        "      for i in range(args[0],args[1],args[2]):\n",
        "          result.append(i)\n",
        "  \n",
        "    return result\n",
        "\n",
        "\n",
        "assert list(range(10)) == list(my_range(10))\n",
        "assert list(range(3, 10)) == list(my_range(3, 10))\n",
        "assert list(range(3, 10, 2)) == list(my_range(3, 10, 2))\n",
        "assert list(range(10, 3, -2)) == list(my_range(10, 3, -2))\n",
        "print(\"통과\")"
      ]
    },
    {
      "cell_type": "markdown",
      "metadata": {
        "id": "Ki0TIFGij_4d"
      },
      "source": [
        "### 1-7. reversed"
      ]
    },
    {
      "cell_type": "code",
      "execution_count": 12,
      "metadata": {
        "colab": {
          "base_uri": "https://localhost:8080/"
        },
        "id": "omq-iRJsj_4d",
        "outputId": "816007ba-6b68-4415-fb1a-267f708ec469"
      },
      "outputs": [
        {
          "name": "stdout",
          "output_type": "stream",
          "text": [
            "통과\n"
          ]
        }
      ],
      "source": [
        "def my_reversed(seq):\n",
        "    reversed = []\n",
        "    for i in range(len(seq)-1,-1,-1):\n",
        "      #print(i)\n",
        "      reversed.append(seq[i])\n",
        "    return reversed\n",
        "\n",
        "\n",
        "test = [7, 4, 2, 6, 8]\n",
        "\n",
        "# print(list(reversed(test)))\n",
        "# print(list(my_reversed(test)))\n",
        "\n",
        "assert list(reversed(test)) == list(my_reversed(test))\n",
        "print(\"통과\")"
      ]
    },
    {
      "cell_type": "markdown",
      "metadata": {
        "id": "EO1bxjI2j_4d"
      },
      "source": [
        "### 1-8. filter"
      ]
    },
    {
      "cell_type": "code",
      "execution_count": 13,
      "metadata": {
        "colab": {
          "base_uri": "https://localhost:8080/"
        },
        "id": "TN6rpi9bj_4d",
        "outputId": "f06aa143-bdf0-472d-98fd-5876dec4db38"
      },
      "outputs": [
        {
          "name": "stdout",
          "output_type": "stream",
          "text": [
            "통과\n"
          ]
        }
      ],
      "source": [
        "def my_filter(function, iterable):\n",
        "    result = []\n",
        "    for i in range(len(iterable)):\n",
        "      after = function(iterable[i])\n",
        "      if after != False:\n",
        "        result.append(iterable[i])\n",
        "    return result\n",
        "\n",
        "def test_function(number):\n",
        "    return number > 5\n",
        "test = [1, 7, 5, 2, 9, 11]\n",
        "\n",
        "\n",
        "# print(list(filter(lambda x: x > 5, test)))\n",
        "# print(list(my_filter(test_function, test)))\n",
        "# 역슬래시 \"\\\"를 이용하면 평가식을 다음 줄로 나눌 수 있다.\n",
        "assert list(filter(test_function, test)) == list(my_filter(test_function, test)) \\\n",
        "    == list(filter(lambda x: x > 5, test))\n",
        "print(\"통과\")"
      ]
    },
    {
      "cell_type": "markdown",
      "metadata": {
        "id": "heIN6IBLxP9d"
      },
      "source": [
        "### 1-9. map"
      ]
    },
    {
      "cell_type": "code",
      "execution_count": 14,
      "metadata": {
        "colab": {
          "base_uri": "https://localhost:8080/"
        },
        "id": "748JDhTWxPqz",
        "outputId": "e4c53218-d40b-4394-893c-663486df2481"
      },
      "outputs": [
        {
          "name": "stdout",
          "output_type": "stream",
          "text": [
            "통과\n"
          ]
        }
      ],
      "source": [
        "def my_map(function, iterable):\n",
        "    result = []\n",
        "    for i in range(len(iterable)):\n",
        "      after = function(iterable[i])\n",
        "      result.append(after)\n",
        "    return result\n",
        "\n",
        "def test_function(number):\n",
        "    return number * 2\n",
        "test = [1, 7, 5, 2, 9, 11]\n",
        "\n",
        "assert list(map(test_function, test)) == list(my_map(test_function, test)) \\\n",
        "    == list(map(lambda x: x * 2, test))\n",
        "print(\"통과\")"
      ]
    },
    {
      "cell_type": "markdown",
      "metadata": {
        "id": "TFRcIgaej_4e"
      },
      "source": [
        "### 1-10. sum"
      ]
    },
    {
      "cell_type": "code",
      "execution_count": 15,
      "metadata": {
        "colab": {
          "base_uri": "https://localhost:8080/"
        },
        "id": "OBMnyE-Jj_4e",
        "outputId": "d2ae1462-2395-4eef-ab01-44b0acff4f62"
      },
      "outputs": [
        {
          "name": "stdout",
          "output_type": "stream",
          "text": [
            "통과\n"
          ]
        }
      ],
      "source": [
        "def my_sum(iterable, start=0):\n",
        "    acc = 0\n",
        "    newArr = []\n",
        "    iterType = type(iterable[0])\n",
        "    # print(iterType)\n",
        "    if iterType == int:\n",
        "       for i in range(len(iterable)):\n",
        "          num = iterable[i]\n",
        "          acc += int(num)\n",
        "       return acc\n",
        "\n",
        "    elif iterType == list:\n",
        "      for i in range(len(iterable)):\n",
        "          newArr += iterable[i]\n",
        "      return newArr\n",
        "    \n",
        "\n",
        "\n",
        "test = [7, 4, 2, 6, 8]\n",
        "\n",
        "assert sum(test) == my_sum(test)\n",
        "assert sum(range(10)) == my_sum(my_range(10))\n",
        "assert sum(filter(lambda x: x % 2, range(1, 20, 3))) \\\n",
        "    == my_sum(my_filter(lambda x: x % 2, my_range(1, 20, 3)))\n",
        "start = []\n",
        "# print(\"ww\",my_sum([[1, 2, 3], [5, 6, 7], [8, 9, 10]], start))\n",
        "assert my_sum([[1, 2, 3], [5, 6, 7], [8, 9, 10]], start) \\\n",
        "    == sum([[1, 2, 3], [5, 6, 7], [8, 9, 10]], start) \n",
        "print(\"통과\")"
      ]
    },
    {
      "cell_type": "markdown",
      "metadata": {
        "id": "ECrWOlnjj_4e"
      },
      "source": [
        "### 1-11. zip"
      ]
    },
    {
      "cell_type": "code",
      "execution_count": 16,
      "metadata": {
        "colab": {
          "base_uri": "https://localhost:8080/"
        },
        "id": "TFQnbWW1j_4e",
        "outputId": "400738fd-f26d-4fd8-eab6-e924390812de"
      },
      "outputs": [
        {
          "name": "stdout",
          "output_type": "stream",
          "text": [
            "통과\n"
          ]
        }
      ],
      "source": [
        "def my_zip(*iterables):\n",
        "  \n",
        "    iterCheck = len(iterables)\n",
        "    if iterCheck == 2:\n",
        "      first, second = iterables\n",
        "      result=[]\n",
        "      firstLen = len(first)\n",
        "      secondLen = len(second)\n",
        "      if firstLen > secondLen:\n",
        "       for i in range(secondLen):\n",
        "          newList = first[i],second[i]\n",
        "          result.append(newList)\n",
        "    \n",
        "\n",
        "    else:\n",
        "      first, second, third = iterables\n",
        "      result=[]\n",
        "      firstLen = len(first)\n",
        "      secondLen = len(second)\n",
        "      thirdLen = len(third)\n",
        "\n",
        "      leastest = min(firstLen,secondLen,thirdLen)\n",
        "      for i in range(leastest):\n",
        "          newList = first[i],second[i],third[i]\n",
        "          result.append(newList)\n",
        "      \n",
        "\n",
        "\n",
        "    return result\n",
        "\n",
        "\n",
        "\n",
        "test1 = (1, 2, 3, 4)\n",
        "test2 = (10, 2, 30)\n",
        "\n",
        "\n",
        "assert list(zip(test1, test2)) == list(my_zip(test1, test2))\n",
        "\n",
        "test3 = [(10, 20, 30, 40), (55, 22, 66, 70), (False, True, True, False)]\n",
        "assert list(zip(*test3)) == list(my_zip(*test3))\n",
        "print(\"통과\")"
      ]
    },
    {
      "cell_type": "markdown",
      "metadata": {
        "id": "Gm9742vej_4e"
      },
      "source": [
        "### 1-12. sorted\n",
        "정렬 알고리즘은 어떠한 것을 써도 무방하다.\n",
        "O(N^2) 시간복잡도의 쉬운 정렬 알고리즘으로 일반적으로 [삽입정렬](https://ko.wikipedia.org/wiki/%EC%82%BD%EC%9E%85_%EC%A0%95%EB%A0%AC), [선택정렬](https://ko.wikipedia.org/wiki/%EC%84%A0%ED%83%9D_%EC%A0%95%EB%A0%AC), 그리고 [버블정렬](https://ko.wikipedia.org/wiki/%EA%B1%B0%ED%92%88_%EC%A0%95%EB%A0%AC)을 꼽는다.\n",
        "O(N log N) 시간복잡도의 더 빠른 정렬 프로그램을 만들고 싶다면 [퀵정렬](https://ko.wikipedia.org/wiki/%ED%80%B5_%EC%A0%95%EB%A0%AC)이나 [합병정렬](https://ko.wikipedia.org/wiki/%ED%95%A9%EB%B3%91_%EC%A0%95%EB%A0%AC)을 구현해보자."
      ]
    },
    {
      "cell_type": "code",
      "execution_count": 22,
      "metadata": {
        "colab": {
          "base_uri": "https://localhost:8080/"
        },
        "id": "h3fKPQodj_4f",
        "outputId": "f9a6a462-ba67-45c0-f843-c309fd7a52df"
      },
      "outputs": [
        {
          "name": "stdout",
          "output_type": "stream",
          "text": [
            "통과\n"
          ]
        }
      ],
      "source": [
        "def my_sorted(iterable, key=None, reverse=False):\n",
        "# ???? 람다함수 내부 정보를 바탕으로 분기를 나누는 방법???\n",
        "\n",
        "\n",
        "    length = len(iterable)\n",
        "    for i in range(length-1):\n",
        "      indexMin = i\n",
        "      for j in range(i+1, length):\n",
        "        # print(iterable[indexMin])\n",
        "        # print(iterable[j])\n",
        "        if key != None:\n",
        "          # print(iterable[indexMin][0])\n",
        "          if iterable[indexMin][1] > iterable[j][1]:\n",
        "            indexMin = j\n",
        "            # print('indexMin',indexMin)\n",
        "        else:\n",
        "          if iterable[indexMin] > iterable[j]:\n",
        "            indexMin = j\n",
        "            # print('indexMin',indexMin)\n",
        "        \n",
        "      iterable[i], iterable[indexMin] = iterable[indexMin], iterable[i]\n",
        "    \n",
        "    if reverse == True: return iterable[::-1]\n",
        "    else: return iterable\n",
        "\n",
        "\n",
        "test1 = [7, 4, 2, 6, 8]\n",
        "assert sorted(test1) == my_sorted(test1)\n",
        "\n",
        "test2 = [(1, 2), (6, 2), (5, 3), (10, 5)]\n",
        "# print(sorted(test2, key=lambda x: x[1]))\n",
        "# print(my_sorted(test2, key=lambda x: x[1]))\n",
        "assert sorted(test2) == my_sorted(test2) \\\n",
        "   and sorted(test2, reverse=True) == my_sorted(test2, reverse=True) \\\n",
        "   and sorted(test2, key=lambda x: x[1]) == my_sorted(test2, key=lambda x: x[1])\n",
        "print(\"통과\")"
      ]
    },
    {
      "cell_type": "markdown",
      "metadata": {
        "id": "FgiQdO2Gj_4f"
      },
      "source": [
        "## 2. 알고리즘 함수 만들기\n",
        "몇 가지 간단한 알고리즘 함수를 만들어보자.\n",
        "\n",
        "### 2-1. 피보나치 수열 만들기\n",
        "숫자 $N$가 주어졌을때,다피보나치 길이 $N$의 피보나치 수열을 생성하는 함수를 작성해보자. 시작은 1부터다."
      ]
    },
    {
      "cell_type": "code",
      "execution_count": 23,
      "metadata": {
        "colab": {
          "base_uri": "https://localhost:8080/"
        },
        "id": "SathO3raj_4f",
        "outputId": "fd63e62d-517c-48a9-c615-f812a9516e80"
      },
      "outputs": [
        {
          "name": "stdout",
          "output_type": "stream",
          "text": [
            "통과\n"
          ]
        }
      ],
      "source": [
        "def fib(number):\n",
        "    if number== 0 or number== 1:\n",
        "        return number\n",
        "    return fib (number- 1) + fib (number- 2) \n",
        "\n",
        "def fibonacci(number):\n",
        "  return map(fib, range(1, number+1))\n",
        "\n",
        "\n",
        "assert list(fibonacci(10)) == [1, 1, 2, 3, 5, 8, 13, 21, 34, 55]\n",
        "assert sum(fibonacci(5)) == 12\n",
        "print(\"통과\") "
      ]
    },
    {
      "cell_type": "markdown",
      "metadata": {
        "id": "qbdm9l5pj_4f"
      },
      "source": [
        "### 2-2. 순열 만들기\n",
        "수열 $S$가 주어졌을때 그 안에서 $N$를 뽑아 순열을 만드는 함수를 작성해보자. 순서는 상관없다. \\\n",
        "(힌트: 재귀 함수를 써보자)"
      ]
    },
    {
      "cell_type": "code",
      "execution_count": 24,
      "metadata": {
        "colab": {
          "base_uri": "https://localhost:8080/"
        },
        "id": "r9qXLBcXj_4f",
        "outputId": "564fc9af-01b1-40eb-d52c-f0ba970ab4b3"
      },
      "outputs": [
        {
          "name": "stdout",
          "output_type": "stream",
          "text": [
            "통과\n"
          ]
        }
      ],
      "source": [
        "\n",
        "def my_permutations(seq, number):\n",
        "    result = set()\n",
        "    if number > len(seq):\n",
        "        return result\n",
        "\n",
        "    if number == 1:\n",
        "        for i in seq:\n",
        "            single = i,\n",
        "            result.add(single)\n",
        "    elif number > 1:\n",
        "        for i in range(len(seq)):\n",
        "            ans = [i for i in seq]\n",
        "            ans.remove(seq[i])\n",
        "            for p in my_permutations(ans, number-1):\n",
        "                # print(tuple([seq[i]]))\n",
        "                # print(tuple([p]))\n",
        "                result.add(tuple([seq[i]])+p,)\n",
        "\n",
        "    return result\n",
        "    \n",
        "\n",
        "from itertools import permutations\n",
        "test = [1, 2, 3, 4]\n",
        "\n",
        "\n",
        "# print(\"최종\",set(permutations(test, 3)))\n",
        "# print(\"내거\",set(my_permutations(test, 3)))\n",
        "assert set(permutations(test, 2)) == set(my_permutations(test, 2)) \\\n",
        "   and set(permutations(test, 3)) == set(my_permutations(test, 3))\n",
        "print(\"통과\") "
      ]
    },
    {
      "cell_type": "markdown",
      "metadata": {
        "id": "laEqDZNsj_4g"
      },
      "source": [
        "### 2-3. 조합 만들기\n",
        "수열 $S$가 주어졌을때 그 안에서 $N$를 뽑아 조합을 만드는 함수를 작성해보자. 순서는 상관없다. \\\n",
        "(힌트: 재귀 함수를 써보자)"
      ]
    },
    {
      "cell_type": "code",
      "execution_count": 25,
      "metadata": {
        "colab": {
          "base_uri": "https://localhost:8080/"
        },
        "id": "CJer6T7Nj_4g",
        "outputId": "23c73a96-ff60-4c68-fe0e-b26c17414272"
      },
      "outputs": [
        {
          "name": "stdout",
          "output_type": "stream",
          "text": [
            "통과\n"
          ]
        }
      ],
      "source": [
        "def my_combinations(seq, number):\n",
        "    result = set()\n",
        "    if number > len(seq):\n",
        "        return result\n",
        "\n",
        "    if number == 1:\n",
        "        for i in seq:\n",
        "            single = i,\n",
        "            result.add(single)\n",
        "    elif number > 1:\n",
        "        for i in range(len(seq)-number+1):\n",
        "            for p in my_combinations(seq[i+1:], number-1):\n",
        "                result.add(tuple([seq[i]])+p,)\n",
        "\n",
        "    return result\n",
        "\n",
        "from itertools import combinations\n",
        "test = [1, 2, 3, 4]\n",
        "\n",
        "assert set(combinations(test, 2)) == set(my_combinations(test, 2)) \\\n",
        "   and set(combinations(test, 3)) == set(my_combinations(test, 3))\n",
        "print(\"통과\") "
      ]
    }
  ],
  "metadata": {
    "colab": {
      "collapsed_sections": [],
      "provenance": []
    },
    "kernelspec": {
      "display_name": "Python 3.11.0 64-bit",
      "language": "python",
      "name": "python3"
    },
    "language_info": {
      "codemirror_mode": {
        "name": "ipython",
        "version": 3
      },
      "file_extension": ".py",
      "mimetype": "text/x-python",
      "name": "python",
      "nbconvert_exporter": "python",
      "pygments_lexer": "ipython3",
      "version": "3.11.0"
    },
    "orig_nbformat": 4,
    "vscode": {
      "interpreter": {
        "hash": "aee8b7b246df8f9039afb4144a1f6fd8d2ca17a180786b69acc140d282b71a49"
      }
    }
  },
  "nbformat": 4,
  "nbformat_minor": 0
}
